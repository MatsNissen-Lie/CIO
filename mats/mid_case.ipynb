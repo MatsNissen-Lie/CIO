{
 "cells": [
  {
   "cell_type": "code",
   "execution_count": 1,
   "metadata": {
    "dotnet_interactive": {
     "language": "csharp"
    },
    "polyglot_notebook": {
     "kernelName": "csharp"
    }
   },
   "outputs": [
    {
     "name": "stdout",
     "output_type": "stream",
     "text": [
      "Solution:\n",
      "Number of turbines in park 1: 32.0\n",
      "Number of turbines in park 2: 60.0\n",
      "Number of turbines in park 3: 60.0\n",
      "Cable 2 is used for park 1\n",
      "Cable 1 is used for park 2\n",
      "Cable 2 is used for park 3\n",
      "Is the third park built? Yes\n",
      "Minimum total cost: 17729.5\n",
      "\n",
      "Total production in park 1: 240.0\n",
      "Total production in park 2: 420.0\n",
      "Total production in park 3: 642.0\n"
     ]
    }
   ],
   "source": [
    "from ortools.linear_solver import pywraplp\n",
    "\n",
    "# Define the constants\n",
    "P = [7.5, 7, 10.7]  # Production per turbine in park 1, 2, 3\n",
    "C_M = [100, 100, 100]  # Cost per turbine in park 1, 2, 3\n",
    "N = 60  # Maximum number of turbines per park\n",
    "L = 2  # Number of different cable types\n",
    "C_C = [1.5, 2] #cable cost per km in million usd\n",
    "S_I=[40, 25, 30] #length in km from shore to paprk (or park 1 to park 3)\n",
    "C_L = []\n",
    "for distance in S_I:\n",
    "    cost_for_cable_from_park = [cost_per_km*distance for cost_per_km in C_C]\n",
    "    C_L.append(cost_for_cable_from_park)\n",
    "\n",
    "Q = [500, 900]  # Capacity of cables 1 and 2\n",
    "D = 1300 # Required amount of delivered electricity\n",
    "C_I = 2352  # Cost to establish the third wind farm\n",
    "\n",
    "# Create the solver\n",
    "solver = pywraplp.Solver.CreateSolver('SCIP')\n",
    "\n",
    "# Variables\n",
    "x = [solver.IntVar(0, N, f'x_{i+1}') for i in range(3)]  # x_1, x_2, x_3\n",
    "delta = [\n",
    "    [solver.BoolVar(f'delta_{i+1}_{ell+1}') for ell in range(L)] for i in range(3)\n",
    "]  # delta_{i}{ell}\n",
    "\n",
    "y = solver.BoolVar('y')  # Binary variable for the third park\n",
    "\n",
    "# Constraints\n",
    "\n",
    "# 1. Total production meets demand\n",
    "solver.Add(sum(P[i] * x[i] for i in range(3)) >= D)\n",
    "\n",
    "# 2. Upper limit on the number of turbines per park\n",
    "for i in range(3):\n",
    "    solver.Add(x[i] <= N)\n",
    "\n",
    "# 3. Production in each park must be less than or equal to the capacity of the selected cable\n",
    "for i in range(3):\n",
    "    solver.Add(\n",
    "        P[i] * x[i] <= sum(Q[ell] * delta[i][ell] for ell in range(L))\n",
    "    )\n",
    "\n",
    "# 4. Only one cable is used per park (modified for park 3)\n",
    "for i in range(2):  # Parks 1 and 2\n",
    "    solver.Add(sum(delta[i][ell] for ell in range(L)) == 1)\n",
    "# For park 3, cable selection depends on whether the park is built\n",
    "solver.Add(sum(delta[2][ell] for ell in range(L)) == y)\n",
    "\n",
    "# Ensure that no cables are selected for park 3 when it's not built\n",
    "for ell in range(L):\n",
    "    solver.Add(delta[2][ell] <= y)\n",
    "\n",
    "# 5. If the third park is not built, x_3 = 0\n",
    "solver.Add(x[2] <= N * y)\n",
    "\n",
    "# 6. Capacity constraint for parks 1 and 3 combined\n",
    "solver.Add(\n",
    "    P[0] * x[0] + P[2] * x[2]\n",
    "    <= sum(Q[ell] * (delta[0][ell]) for ell in range(L)) # we have a bottle neck at park 1 because park 3 is connected via park 1\n",
    ")\n",
    "\n",
    "# 7. x_i are non-negative integers\n",
    "for i in range(3):\n",
    "    solver.Add(x[i] >= 0)\n",
    "    \n",
    "# # New constraint: at least one turbine in Park 1 and Park 2\n",
    "# solver.Add(x[0] >= 1)  # Park 1 must have at least 1 turbine\n",
    "# solver.Add(x[1] >= 1)  # Park 2 must have at least 1 turbine\n",
    "\n",
    "# Objective function\n",
    "objective = solver.Objective()\n",
    "\n",
    "# Cost for turbines\n",
    "for i in range(3):\n",
    "    objective.SetCoefficient(x[i], C_M[i])\n",
    "\n",
    "# Cost for cables\n",
    "for i in range(3):\n",
    "    for ell in range(L):\n",
    "        objective.SetCoefficient(delta[i][ell], C_L[i][ell])\n",
    "\n",
    "# Cost to establish the third park\n",
    "objective.SetCoefficient(y, C_I)\n",
    "\n",
    "objective.SetMinimization()\n",
    "\n",
    "# Solve the problem\n",
    "status = solver.Solve()\n",
    "\n",
    "# Output the solution\n",
    "if status == pywraplp.Solver.OPTIMAL:\n",
    "    print('Solution:')\n",
    "    for i in range(3):\n",
    "        print(f'Number of turbines in park {i+1}: {x[i].solution_value()}')\n",
    "    for i in range(3):\n",
    "        for ell in range(L):\n",
    "            if delta[i][ell].solution_value() > 0.5:\n",
    "                print(f'Cable {ell+1} is used for park {i+1}')\n",
    "    print(f'Is the third park built? {\"Yes\" if y.solution_value() > 0.5 else \"No\"}')\n",
    "    \n",
    "    print(f'Minimum total cost: {solver.Objective().Value()}')\n",
    "    print()\n",
    "    # print total production for each park\n",
    "    for i in range(3):\n",
    "        print(f'Total production in park {i+1}: {P[i] * x[i].solution_value()}')\n",
    "else:\n",
    "    print('The problem does not have an optimal solution.')\n"
   ]
  }
 ],
 "metadata": {
  "kernelspec": {
   "display_name": "CIO",
   "language": "python",
   "name": "python3"
  },
  "language_info": {
   "codemirror_mode": {
    "name": "ipython",
    "version": 3
   },
   "file_extension": ".py",
   "mimetype": "text/x-python",
   "name": "python",
   "nbconvert_exporter": "python",
   "pygments_lexer": "ipython3",
   "version": "3.10.13"
  },
  "polyglot_notebook": {
   "kernelInfo": {
    "defaultKernelName": "csharp",
    "items": [
     {
      "aliases": [],
      "name": "csharp"
     }
    ]
   }
  }
 },
 "nbformat": 4,
 "nbformat_minor": 2
}
